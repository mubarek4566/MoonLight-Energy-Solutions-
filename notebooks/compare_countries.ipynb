{
 "cells": [
  {
   "cell_type": "markdown",
   "id": "6e53a06e",
   "metadata": {},
   "source": [
    "# Cross-Country Comparison\n",
    "Objective: Synthesize the cleaned datasets from Benin, Sierra Leone, and Togo to identify relative solar potential and key differences across countries."
   ]
  },
  {
   "cell_type": "code",
   "execution_count": 21,
   "id": "0972e95f",
   "metadata": {},
   "outputs": [],
   "source": [
    "# Load libraries\n",
    "import pandas as pd\n",
    "import matplotlib.pyplot as plt\n",
    "import seaborn as sns\n",
    "from scipy.stats import f_oneway, kruskal\n",
    "import os\n",
    "import sys\n",
    "\n",
    "# loading modules \n",
    "sys.path.append(os.path.abspath('../scripts'))\n",
    "sys.path.append(os.path.abspath('../src'))\n",
    "\n",
    "from data_loader import get_file_path, get_cleaned_data, CSVData"
   ]
  },
  {
   "cell_type": "code",
   "execution_count": 7,
   "id": "db113411",
   "metadata": {},
   "outputs": [],
   "source": [
    "# Load each country’s cleaned CSV \n",
    "# Load Benin data\n",
    "benin = get_cleaned_data(\"benin_cleaned\")\n",
    "benin_cleaned = CSVData(benin).load_data()\n",
    "\n",
    "# Load sierraleone data\n",
    "sierraleone_path = get_cleaned_data(\"sierraleone_cleaned\")\n",
    "sierraleone_data = CSVData(sierraleone_path).load_data()\n",
    "\n",
    "# Load Benin data\n",
    "togo_path = get_cleaned_data(\"togo_cleaned\")\n",
    "benin_data = CSVData(togo_path).load_data()"
   ]
  },
  {
   "cell_type": "code",
   "execution_count": 8,
   "id": "275013a3",
   "metadata": {},
   "outputs": [],
   "source": [
    "# Add country column for distinction\n",
    "benin_cleaned['Country'] = 'Benin'\n",
    "sierraleone_data['Country'] = 'SierraLeone'\n",
    "benin_data['Country'] = 'Togo'"
   ]
  },
  {
   "cell_type": "code",
   "execution_count": 9,
   "id": "d9d8f40e",
   "metadata": {},
   "outputs": [],
   "source": [
    "# Concatenate datasets\n",
    "df_all = pd.concat([benin_cleaned, sierraleone_data, benin_data], ignore_index=True)"
   ]
  },
  {
   "cell_type": "code",
   "execution_count": 11,
   "id": "17353dc4",
   "metadata": {},
   "outputs": [],
   "source": [
    "df_all= df_all.drop(columns=['has_outlier'])"
   ]
  },
  {
   "cell_type": "code",
   "execution_count": 12,
   "id": "7283bdce",
   "metadata": {},
   "outputs": [
    {
     "data": {
      "text/html": [
       "<div>\n",
       "<style scoped>\n",
       "    .dataframe tbody tr th:only-of-type {\n",
       "        vertical-align: middle;\n",
       "    }\n",
       "\n",
       "    .dataframe tbody tr th {\n",
       "        vertical-align: top;\n",
       "    }\n",
       "\n",
       "    .dataframe thead th {\n",
       "        text-align: right;\n",
       "    }\n",
       "</style>\n",
       "<table border=\"1\" class=\"dataframe\">\n",
       "  <thead>\n",
       "    <tr style=\"text-align: right;\">\n",
       "      <th></th>\n",
       "      <th>Timestamp</th>\n",
       "      <th>GHI</th>\n",
       "      <th>DNI</th>\n",
       "      <th>DHI</th>\n",
       "      <th>ModA</th>\n",
       "      <th>ModB</th>\n",
       "      <th>Tamb</th>\n",
       "      <th>RH</th>\n",
       "      <th>WS</th>\n",
       "      <th>WSgust</th>\n",
       "      <th>WSstdev</th>\n",
       "      <th>WD</th>\n",
       "      <th>WDstdev</th>\n",
       "      <th>BP</th>\n",
       "      <th>Cleaning</th>\n",
       "      <th>Precipitation</th>\n",
       "      <th>TModA</th>\n",
       "      <th>TModB</th>\n",
       "      <th>Country</th>\n",
       "    </tr>\n",
       "  </thead>\n",
       "  <tbody>\n",
       "    <tr>\n",
       "      <th>0</th>\n",
       "      <td>2021-08-09 00:01</td>\n",
       "      <td>-1.2</td>\n",
       "      <td>-0.2</td>\n",
       "      <td>-1.1</td>\n",
       "      <td>0.0</td>\n",
       "      <td>0.0</td>\n",
       "      <td>26.2</td>\n",
       "      <td>93.4</td>\n",
       "      <td>0.0</td>\n",
       "      <td>0.4</td>\n",
       "      <td>0.1</td>\n",
       "      <td>122.1</td>\n",
       "      <td>0.0</td>\n",
       "      <td>998</td>\n",
       "      <td>0</td>\n",
       "      <td>0.0</td>\n",
       "      <td>26.3</td>\n",
       "      <td>26.2</td>\n",
       "      <td>Benin</td>\n",
       "    </tr>\n",
       "    <tr>\n",
       "      <th>1</th>\n",
       "      <td>2021-08-09 00:02</td>\n",
       "      <td>-1.1</td>\n",
       "      <td>-0.2</td>\n",
       "      <td>-1.1</td>\n",
       "      <td>0.0</td>\n",
       "      <td>0.0</td>\n",
       "      <td>26.2</td>\n",
       "      <td>93.6</td>\n",
       "      <td>0.0</td>\n",
       "      <td>0.0</td>\n",
       "      <td>0.0</td>\n",
       "      <td>0.0</td>\n",
       "      <td>0.0</td>\n",
       "      <td>998</td>\n",
       "      <td>0</td>\n",
       "      <td>0.0</td>\n",
       "      <td>26.3</td>\n",
       "      <td>26.2</td>\n",
       "      <td>Benin</td>\n",
       "    </tr>\n",
       "    <tr>\n",
       "      <th>2</th>\n",
       "      <td>2021-08-09 00:03</td>\n",
       "      <td>-1.1</td>\n",
       "      <td>-0.2</td>\n",
       "      <td>-1.1</td>\n",
       "      <td>0.0</td>\n",
       "      <td>0.0</td>\n",
       "      <td>26.2</td>\n",
       "      <td>93.7</td>\n",
       "      <td>0.3</td>\n",
       "      <td>1.1</td>\n",
       "      <td>0.5</td>\n",
       "      <td>124.6</td>\n",
       "      <td>1.5</td>\n",
       "      <td>997</td>\n",
       "      <td>0</td>\n",
       "      <td>0.0</td>\n",
       "      <td>26.4</td>\n",
       "      <td>26.2</td>\n",
       "      <td>Benin</td>\n",
       "    </tr>\n",
       "    <tr>\n",
       "      <th>3</th>\n",
       "      <td>2021-08-09 00:04</td>\n",
       "      <td>-1.1</td>\n",
       "      <td>-0.1</td>\n",
       "      <td>-1.0</td>\n",
       "      <td>0.0</td>\n",
       "      <td>0.0</td>\n",
       "      <td>26.2</td>\n",
       "      <td>93.3</td>\n",
       "      <td>0.2</td>\n",
       "      <td>0.7</td>\n",
       "      <td>0.4</td>\n",
       "      <td>120.3</td>\n",
       "      <td>1.3</td>\n",
       "      <td>997</td>\n",
       "      <td>0</td>\n",
       "      <td>0.0</td>\n",
       "      <td>26.4</td>\n",
       "      <td>26.3</td>\n",
       "      <td>Benin</td>\n",
       "    </tr>\n",
       "    <tr>\n",
       "      <th>4</th>\n",
       "      <td>2021-08-09 00:05</td>\n",
       "      <td>-1.0</td>\n",
       "      <td>-0.1</td>\n",
       "      <td>-1.0</td>\n",
       "      <td>0.0</td>\n",
       "      <td>0.0</td>\n",
       "      <td>26.2</td>\n",
       "      <td>93.3</td>\n",
       "      <td>0.1</td>\n",
       "      <td>0.7</td>\n",
       "      <td>0.3</td>\n",
       "      <td>113.2</td>\n",
       "      <td>1.0</td>\n",
       "      <td>997</td>\n",
       "      <td>0</td>\n",
       "      <td>0.0</td>\n",
       "      <td>26.4</td>\n",
       "      <td>26.3</td>\n",
       "      <td>Benin</td>\n",
       "    </tr>\n",
       "  </tbody>\n",
       "</table>\n",
       "</div>"
      ],
      "text/plain": [
       "          Timestamp  GHI  DNI  DHI  ModA  ModB  Tamb    RH   WS  WSgust  \\\n",
       "0  2021-08-09 00:01 -1.2 -0.2 -1.1   0.0   0.0  26.2  93.4  0.0     0.4   \n",
       "1  2021-08-09 00:02 -1.1 -0.2 -1.1   0.0   0.0  26.2  93.6  0.0     0.0   \n",
       "2  2021-08-09 00:03 -1.1 -0.2 -1.1   0.0   0.0  26.2  93.7  0.3     1.1   \n",
       "3  2021-08-09 00:04 -1.1 -0.1 -1.0   0.0   0.0  26.2  93.3  0.2     0.7   \n",
       "4  2021-08-09 00:05 -1.0 -0.1 -1.0   0.0   0.0  26.2  93.3  0.1     0.7   \n",
       "\n",
       "   WSstdev     WD  WDstdev   BP  Cleaning  Precipitation  TModA  TModB Country  \n",
       "0      0.1  122.1      0.0  998         0            0.0   26.3   26.2   Benin  \n",
       "1      0.0    0.0      0.0  998         0            0.0   26.3   26.2   Benin  \n",
       "2      0.5  124.6      1.5  997         0            0.0   26.4   26.2   Benin  \n",
       "3      0.4  120.3      1.3  997         0            0.0   26.4   26.3   Benin  \n",
       "4      0.3  113.2      1.0  997         0            0.0   26.4   26.3   Benin  "
      ]
     },
     "execution_count": 12,
     "metadata": {},
     "output_type": "execute_result"
    }
   ],
   "source": [
    "df_all.head()"
   ]
  },
  {
   "cell_type": "markdown",
   "id": "805a3fdc",
   "metadata": {},
   "source": [
    "## Country Comparizen using Different Metrics\n",
    "#### Boxplots for GHI, DNI, DHI"
   ]
  },
  {
   "cell_type": "code",
   "execution_count": 16,
   "id": "39686d49",
   "metadata": {},
   "outputs": [],
   "source": [
    "def plot_boxplots(df, metrics=['GHI', 'DNI', 'DHI']):\n",
    "    fig, axes = plt.subplots(1, len(metrics), figsize=(18, 6), sharey=False)\n",
    "\n",
    "    for i, metric in enumerate(metrics):\n",
    "        sns.boxplot(\n",
    "            data=df,\n",
    "            x='Country',\n",
    "            y=metric,\n",
    "            hue='Country',\n",
    "            palette='Set2',\n",
    "            legend=False,\n",
    "            ax=axes[i]\n",
    "        )\n",
    "        axes[i].set_title(f'{metric} Comparison')\n",
    "        axes[i].set_ylabel(f'{metric} (W/m²)')\n",
    "        axes[i].set_xlabel('Country')\n",
    "\n",
    "    plt.tight_layout()\n",
    "    plt.show()\n"
   ]
  },
  {
   "cell_type": "code",
   "execution_count": 17,
   "id": "c8a29c5d",
   "metadata": {},
   "outputs": [
    {
     "name": "stdout",
     "output_type": "stream",
     "text": [
      "Generating boxplots for GHI, DNI, and DHI...\n"
     ]
    },
    {
     "data": {
      "image/png": "[encoded data removed]",
      "text/plain": [
       "<Figure size 1800x600 with 3 Axes>"
      ]
     },
     "metadata": {},
     "output_type": "display_data"
    }
   ],
   "source": [
    "print(\"Generating boxplots for GHI, DNI, and DHI...\")\n",
    "plot_boxplots(df_all)"
   ]
  },
  {
   "cell_type": "markdown",
   "id": "53ddde65",
   "metadata": {},
   "source": [
    "### Summary Table"
   ]
  },
  {
   "cell_type": "code",
   "execution_count": 18,
   "id": "71513327",
   "metadata": {},
   "outputs": [],
   "source": [
    "def generate_summary_table(df):\n",
    "    summary = df.groupby('Country')[['GHI', 'DNI', 'DHI']].agg(['mean', 'median', 'std'])\n",
    "    summary.columns = ['_'.join(col).strip() for col in summary.columns.values]  # Flatten multi-index\n",
    "    summary.reset_index(inplace=True)\n",
    "    return summary"
   ]
  },
  {
   "cell_type": "code",
   "execution_count": 20,
   "metadata": {},
   "outputs": [
    {
     "name": "stdout",
     "output_type": "stream",
     "text": [
      "Generating summary statistics table...\n"
     ]
    },
    {
     "data": {
      "text/html": [
       "<div>\n",
       "<style scoped>\n",
       "    .dataframe tbody tr th:only-of-type {\n",
       "        vertical-align: middle;\n",
       "    }\n",
       "\n",
       "    .dataframe tbody tr th {\n",
       "        vertical-align: top;\n",
       "    }\n",
       "\n",
       "    .dataframe thead th {\n",
       "        text-align: right;\n",
       "    }\n",
       "</style>\n",
       "<table border=\"1\" class=\"dataframe\">\n",
       "  <thead>\n",
       "    <tr style=\"text-align: right;\">\n",
       "      <th></th>\n",
       "      <th>Country</th>\n",
       "      <th>GHI_mean</th>\n",
       "      <th>GHI_median</th>\n",
       "      <th>GHI_std</th>\n",
       "      <th>DNI_mean</th>\n",
       "      <th>DNI_median</th>\n",
       "      <th>DNI_std</th>\n",
       "      <th>DHI_mean</th>\n",
       "      <th>DHI_median</th>\n",
       "      <th>DHI_std</th>\n",
       "    </tr>\n",
       "  </thead>\n",
       "  <tbody>\n",
       "    <tr>\n",
       "      <th>0</th>\n",
       "      <td>Benin</td>\n",
       "      <td>240.559452</td>\n",
       "      <td>1.8</td>\n",
       "      <td>331.131327</td>\n",
       "      <td>167.187516</td>\n",
       "      <td>-0.1</td>\n",
       "      <td>261.710501</td>\n",
       "      <td>115.358961</td>\n",
       "      <td>1.6</td>\n",
       "      <td>158.691074</td>\n",
       "    </tr>\n",
       "    <tr>\n",
       "      <th>1</th>\n",
       "      <td>SierraLeone</td>\n",
       "      <td>201.957515</td>\n",
       "      <td>0.3</td>\n",
       "      <td>298.495150</td>\n",
       "      <td>116.376337</td>\n",
       "      <td>-0.1</td>\n",
       "      <td>218.652659</td>\n",
       "      <td>113.720571</td>\n",
       "      <td>-0.1</td>\n",
       "      <td>158.946032</td>\n",
       "    </tr>\n",
       "    <tr>\n",
       "      <th>2</th>\n",
       "      <td>Togo</td>\n",
       "      <td>230.555040</td>\n",
       "      <td>2.1</td>\n",
       "      <td>322.532347</td>\n",
       "      <td>151.258469</td>\n",
       "      <td>0.0</td>\n",
       "      <td>250.956962</td>\n",
       "      <td>116.444352</td>\n",
       "      <td>2.5</td>\n",
       "      <td>156.520714</td>\n",
       "    </tr>\n",
       "  </tbody>\n",
       "</table>\n",
       "</div>"
      ],
      "text/plain": [
       "       Country    GHI_mean  GHI_median     GHI_std    DNI_mean  DNI_median  \\\n",
       "0        Benin  240.559452         1.8  331.131327  167.187516        -0.1   \n",
       "1  SierraLeone  201.957515         0.3  298.495150  116.376337        -0.1   \n",
       "2         Togo  230.555040         2.1  322.532347  151.258469         0.0   \n",
       "\n",
       "      DNI_std    DHI_mean  DHI_median     DHI_std  \n",
       "0  261.710501  115.358961         1.6  158.691074  \n",
       "1  218.652659  113.720571        -0.1  158.946032  \n",
       "2  250.956962  116.444352         2.5  156.520714  "
      ]
     },
     "execution_count": 20,
     "metadata": {},
     "output_type": "execute_result"
    }
   ],
   "source": [
    "print(\"Generating summary statistics table...\")\n",
    "summary_table = generate_summary_table(df_all)\n",
    "summary_table"
   ]
  },
  {
   "cell_type": "markdown",
   "id": "30425fa0",
   "metadata": {},
   "source": [
    "##  Statistical Testing"
   ]
  },
  {
   "cell_type": "code",
   "execution_count": 24,
   "id": "1c9d42f7",
   "metadata": {},
   "outputs": [],
   "source": [
    "def run_statistical_tests(df):\n",
    "    # Separate GHI by country\n",
    "    ghi_benin = df[df['Country'] == 'Benin']['GHI']\n",
    "    ghi_sierra_leone = df[df['Country'] == 'SierraLeone']['GHI']\n",
    "    ghi_togo = df[df['Country'] == 'Togo']['GHI']\n",
    "\n",
    "    # One-Way ANOVA\n",
    "    anova_stat, anova_p = f_oneway(ghi_benin, ghi_sierra_leone, ghi_togo)\n",
    "\n",
    "    # Kruskal-Wallis Test\n",
    "    kruskal_stat, kruskal_p = kruskal(ghi_benin, ghi_sierra_leone, ghi_togo)\n",
    "\n",
    "    print(\"=== Statistical Test Results on GHI ===\")\n",
    "    print(f\"One-Way ANOVA: F = {anova_stat:.3f}, p = {anova_p:.5f}\")\n",
    "    print(f\"Kruskal–Wallis: H = {kruskal_stat:.3f}, p = {kruskal_p:.5f}\")\n",
    "\n",
    "    if anova_p < 0.05:\n",
    "        print(\"→ Significant difference detected by ANOVA (p < 0.05)\")\n",
    "    else:\n",
    "        print(\"→ No significant difference detected by ANOVA (p ≥ 0.05)\")\n",
    "\n",
    "    if kruskal_p < 0.05:\n",
    "        print(\"→ Significant difference detected by Kruskal–Wallis (p < 0.05)\")\n",
    "    else:\n",
    "        print(\"→ No significant difference detected by Kruskal–Wallis (p ≥ 0.05)\")\n"
   ]
  },
  {
   "cell_type": "code",
   "execution_count": 25,
   "id": "828ddefb",
   "metadata": {},
   "outputs": [
    {
     "name": "stdout",
     "output_type": "stream",
     "text": [
      "\n",
      "Running statistical tests on GHI...\n",
      "=== Statistical Test Results on GHI ===\n",
      "One-Way ANOVA: F = 2090.093, p = 0.00000\n",
      "Kruskal–Wallis: H = 4524.883, p = 0.00000\n",
      "→ Significant difference detected by ANOVA (p < 0.05)\n",
      "→ Significant difference detected by Kruskal–Wallis (p < 0.05)\n"
     ]
    }
   ],
   "source": [
    "print(\"\\nRunning statistical tests on GHI...\")\n",
    "run_statistical_tests(df_all)"
   ]
  },
  {
   "cell_type": "markdown",
   "id": "cac25a6e",
   "metadata": {},
   "source": [
    "## The Key Observations"
   ]
  },
  {
   "cell_type": "markdown",
   "id": "7987d40f",
   "metadata": {},
   "source": [
    "✅Benin exhibits the highest median and mean GHI among the three countries, indicating strong solar potential. However, its variability is also relatively high, suggesting greater fluctuation in solar irradiance.\n",
    "\n",
    "✅Sierra Leone consistently shows the lowest GHI, DNI, and DHI values, making it the least favorable for solar energy generation among the countries compared.\n",
    "\n",
    "✅Statistical tests (ANOVA and Kruskal–Wallis) confirm that differences in GHI across the three countries are highly significant (p < 0.001),   reinforcing the value of tailoring solar strategies by country."
   ]
  },
  {
   "cell_type": "markdown",
   "id": "ad986264",
   "metadata": {},
   "source": [
    "### Visual Summary using Bar Chart"
   ]
  },
  {
   "cell_type": "code",
   "execution_count": 28,
   "id": "f4e91663",
   "metadata": {},
   "outputs": [],
   "source": [
    "def plot_average_ghi_bar(df):\n",
    "    avg_ghi_df = df.groupby('Country', as_index=False)['GHI'].mean().sort_values(by='GHI', ascending=False)\n",
    "\n",
    "    plt.figure(figsize=(6, 4))\n",
    "    sns.barplot(\n",
    "        data=avg_ghi_df,\n",
    "        x='GHI',\n",
    "        y='Country',\n",
    "        hue='Country',\n",
    "        palette='viridis',\n",
    "        dodge=False,\n",
    "        legend=False\n",
    "    )\n",
    "    plt.title('Average GHI by Country')\n",
    "    plt.xlabel('Average GHI (W/m²)')\n",
    "    plt.ylabel('Country')\n",
    "    plt.tight_layout()\n",
    "    plt.show()\n",
    "\n"
   ]
  },
  {
   "cell_type": "code",
   "execution_count": null,
   "id": "4db77e2f",
   "metadata": {},
   "outputs": [
    {
     "name": "stdout",
     "output_type": "stream",
     "text": [
      "\n",
      "Plotting average GHI by country...\n"
     ]
    },
    {
     "data": {
      "image/png": "[encoded data removed]",
      "text/plain": [
       "<Figure size 600x400 with 1 Axes>"
      ]
     },
     "metadata": {},
     "output_type": "display_data"
    }
   ],
   "source": [
    "print(\"\\nPlotting average GHI by country...\")\n",
    "plot_average_ghi_bar(df_all)"
   ]
  }
 ],
 "metadata": {
  "kernelspec": {
   "display_name": "Python 3",
   "language": "python",
   "name": "python3"
  },
  "language_info": {
   "codemirror_mode": {
    "name": "ipython",
    "version": 3
   },
   "file_extension": ".py",
   "mimetype": "text/x-python",
   "name": "python",
   "nbconvert_exporter": "python",
   "pygments_lexer": "ipython3",
   "version": "3.12.8"
  }
 },
 "nbformat": 4,
 "nbformat_minor": 5
}
